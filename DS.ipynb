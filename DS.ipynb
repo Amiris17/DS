{
  "nbformat": 4,
  "nbformat_minor": 0,
  "metadata": {
    "colab": {
      "name": "DS ",
      "provenance": [],
      "collapsed_sections": [],
      "toc_visible": true,
      "authorship_tag": "ABX9TyNnOpMwWRPCuj7jPgRlLoZ8",
      "include_colab_link": true
    },
    "kernelspec": {
      "name": "python3",
      "display_name": "Python 3"
    },
    "language_info": {
      "name": "python"
    }
  },
  "cells": [
    {
      "cell_type": "markdown",
      "metadata": {
        "id": "view-in-github",
        "colab_type": "text"
      },
      "source": [
        "<a href=\"https://colab.research.google.com/github/AimbotMiz/DS/blob/main/DS.ipynb\" target=\"_parent\"><img src=\"https://colab.research.google.com/assets/colab-badge.svg\" alt=\"Open In Colab\"/></a>"
      ]
    },
    {
      "cell_type": "markdown",
      "metadata": {
        "id": "ajS7QAk47-DI"
      },
      "source": [
        "<Font size=100>**Loading Appropriate Libraries** <Font size=100>\n",
        "\n",
        "\n",
        "\n"
      ]
    },
    {
      "cell_type": "code",
      "metadata": {
        "id": "Ym3mlzOpz-EX",
        "colab": {
          "base_uri": "https://localhost:8080/",
          "height": 53
        },
        "outputId": "918126db-e114-43de-c52f-aa53b5a8007f"
      },
      "source": [
        "import pandas as pd\n",
        "import matplotlib.style as style\n",
        "from google.colab import drive\n",
        "drive.mount('/content/drive')\n",
        "import matplotlib.pyplot as plt\n",
        "\"Name: Amiris Olivo\"\n",
        "\n",
        "\n",
        "\n",
        "\n",
        "\n"
      ],
      "execution_count": 23,
      "outputs": [
        {
          "output_type": "stream",
          "name": "stdout",
          "text": [
            "Drive already mounted at /content/drive; to attempt to forcibly remount, call drive.mount(\"/content/drive\", force_remount=True).\n"
          ]
        },
        {
          "output_type": "execute_result",
          "data": {
            "application/vnd.google.colaboratory.intrinsic+json": {
              "type": "string"
            },
            "text/plain": [
              "'Resources: https://www.lexipol.com/resources/blog/understanding-and-measuring-fire-department-response-times/#:~:text=Alarm%20Processing%20Time%3A%2064%20seconds,80%20seconds%20for%20fire%20responses '"
            ]
          },
          "metadata": {},
          "execution_count": 23
        }
      ]
    },
    {
      "cell_type": "markdown",
      "metadata": {
        "id": "u0ZgVJP18tw3"
      },
      "source": [
        "Reading in the csv File with the Dataset"
      ]
    },
    {
      "cell_type": "code",
      "metadata": {
        "id": "P1jYxVSs8syU"
      },
      "source": [
        "path='/content/drive/MyDrive/FDNY_Monthly_Response_Times.csv'\n",
        "df= pd.read_csv(path)"
      ],
      "execution_count": 24,
      "outputs": []
    },
    {
      "cell_type": "markdown",
      "metadata": {
        "id": "Omq9wQ3C85cH"
      },
      "source": [
        "<Font size=100>Display the dataset \n"
      ]
    },
    {
      "cell_type": "code",
      "metadata": {
        "colab": {
          "base_uri": "https://localhost:8080/",
          "height": 423
        },
        "id": "_2hWcQsG9L32",
        "outputId": "cac4c5a8-fab4-4d87-d430-3a1ed3ff6603"
      },
      "source": [
        "df\n"
      ],
      "execution_count": 25,
      "outputs": [
        {
          "output_type": "execute_result",
          "data": {
            "text/html": [
              "<div>\n",
              "<style scoped>\n",
              "    .dataframe tbody tr th:only-of-type {\n",
              "        vertical-align: middle;\n",
              "    }\n",
              "\n",
              "    .dataframe tbody tr th {\n",
              "        vertical-align: top;\n",
              "    }\n",
              "\n",
              "    .dataframe thead th {\n",
              "        text-align: right;\n",
              "    }\n",
              "</style>\n",
              "<table border=\"1\" class=\"dataframe\">\n",
              "  <thead>\n",
              "    <tr style=\"text-align: right;\">\n",
              "      <th></th>\n",
              "      <th>YEARMONTH</th>\n",
              "      <th>INCIDENTCLASSIFICATION</th>\n",
              "      <th>INCIDENTBOROUGH</th>\n",
              "      <th>INCIDENTCOUNT</th>\n",
              "      <th>AVERAGERESPONSETIME</th>\n",
              "    </tr>\n",
              "  </thead>\n",
              "  <tbody>\n",
              "    <tr>\n",
              "      <th>0</th>\n",
              "      <td>2009/07</td>\n",
              "      <td>All Fire/Emergency Incidents</td>\n",
              "      <td>Citywide</td>\n",
              "      <td>40850</td>\n",
              "      <td>04:27</td>\n",
              "    </tr>\n",
              "    <tr>\n",
              "      <th>1</th>\n",
              "      <td>2009/07</td>\n",
              "      <td>All Fire/Emergency Incidents</td>\n",
              "      <td>Manhattan</td>\n",
              "      <td>10709</td>\n",
              "      <td>04:32</td>\n",
              "    </tr>\n",
              "    <tr>\n",
              "      <th>2</th>\n",
              "      <td>2009/07</td>\n",
              "      <td>All Fire/Emergency Incidents</td>\n",
              "      <td>Bronx</td>\n",
              "      <td>8137</td>\n",
              "      <td>04:37</td>\n",
              "    </tr>\n",
              "    <tr>\n",
              "      <th>3</th>\n",
              "      <td>2009/07</td>\n",
              "      <td>All Fire/Emergency Incidents</td>\n",
              "      <td>Staten Island</td>\n",
              "      <td>2205</td>\n",
              "      <td>04:45</td>\n",
              "    </tr>\n",
              "    <tr>\n",
              "      <th>4</th>\n",
              "      <td>2009/07</td>\n",
              "      <td>All Fire/Emergency Incidents</td>\n",
              "      <td>Brooklyn</td>\n",
              "      <td>11505</td>\n",
              "      <td>04:01</td>\n",
              "    </tr>\n",
              "    <tr>\n",
              "      <th>...</th>\n",
              "      <td>...</td>\n",
              "      <td>...</td>\n",
              "      <td>...</td>\n",
              "      <td>...</td>\n",
              "      <td>...</td>\n",
              "    </tr>\n",
              "    <tr>\n",
              "      <th>4363</th>\n",
              "      <td>FY 2017</td>\n",
              "      <td>Structural Fires</td>\n",
              "      <td>Manhattan</td>\n",
              "      <td>5669</td>\n",
              "      <td>04:26</td>\n",
              "    </tr>\n",
              "    <tr>\n",
              "      <th>4364</th>\n",
              "      <td>FY 2017</td>\n",
              "      <td>Structural Fires</td>\n",
              "      <td>Bronx</td>\n",
              "      <td>5829</td>\n",
              "      <td>04:22</td>\n",
              "    </tr>\n",
              "    <tr>\n",
              "      <th>4365</th>\n",
              "      <td>FY 2017</td>\n",
              "      <td>Structural Fires</td>\n",
              "      <td>Staten Island</td>\n",
              "      <td>1266</td>\n",
              "      <td>04:28</td>\n",
              "    </tr>\n",
              "    <tr>\n",
              "      <th>4366</th>\n",
              "      <td>FY 2017</td>\n",
              "      <td>Structural Fires</td>\n",
              "      <td>Brooklyn</td>\n",
              "      <td>7949</td>\n",
              "      <td>03:42</td>\n",
              "    </tr>\n",
              "    <tr>\n",
              "      <th>4367</th>\n",
              "      <td>FY 2017</td>\n",
              "      <td>Structural Fires</td>\n",
              "      <td>Queens</td>\n",
              "      <td>5362</td>\n",
              "      <td>04:34</td>\n",
              "    </tr>\n",
              "  </tbody>\n",
              "</table>\n",
              "<p>4368 rows × 5 columns</p>\n",
              "</div>"
            ],
            "text/plain": [
              "     YEARMONTH        INCIDENTCLASSIFICATION  ... INCIDENTCOUNT  AVERAGERESPONSETIME\n",
              "0      2009/07  All Fire/Emergency Incidents  ...         40850                04:27\n",
              "1      2009/07  All Fire/Emergency Incidents  ...         10709                04:32\n",
              "2      2009/07  All Fire/Emergency Incidents  ...          8137                04:37\n",
              "3      2009/07  All Fire/Emergency Incidents  ...          2205                04:45\n",
              "4      2009/07  All Fire/Emergency Incidents  ...         11505                04:01\n",
              "...        ...                           ...  ...           ...                  ...\n",
              "4363   FY 2017              Structural Fires  ...          5669                04:26\n",
              "4364   FY 2017              Structural Fires  ...          5829                04:22\n",
              "4365   FY 2017              Structural Fires  ...          1266                04:28\n",
              "4366   FY 2017              Structural Fires  ...          7949                03:42\n",
              "4367   FY 2017              Structural Fires  ...          5362                04:34\n",
              "\n",
              "[4368 rows x 5 columns]"
            ]
          },
          "metadata": {},
          "execution_count": 25
        }
      ]
    },
    {
      "cell_type": "markdown",
      "metadata": {
        "id": "eDiJNyYn-CX0"
      },
      "source": [
        "<Font size=100>**Manipulating the dataset**\n",
        "\n",
        "Acquiring the average of each borough\n"
      ]
    },
    {
      "cell_type": "code",
      "metadata": {
        "id": "v0wkGU3z-cdR"
      },
      "source": [
        "sorted=First_month_year1.sort_values(by='INCIDENTCOUNT')\n",
        "\n",
        "new_df=sorted.groupby('INCIDENTBOROUGH')\n",
        "\n",
        "Queens=new_df.get_group('Queens')\n",
        "Queens_Incidents0907=(Queens['INCIDENTCOUNT'].mean())\n",
        "\n",
        "Bronx=new_df.get_group('Bronx')\n",
        "Bronx_Incidents0907=(Bronx['INCIDENTCOUNT'].mean())\n",
        "\n",
        "\n",
        "Brooklyn=new_df.get_group('Brooklyn')\n",
        "Brooklyn_Incidents0907=(Brooklyn['INCIDENTCOUNT'].mean())\n",
        "\n",
        "Manhattan=new_df.get_group('Manhattan')\n",
        "Manhattan_Incidents0907=(Brooklyn['INCIDENTCOUNT'].mean())\n",
        "\n",
        "Staten_Island=new_df.get_group('Staten Island')\n",
        "Staten_Island_Incidents0907=(Staten_Island['INCIDENTCOUNT'].mean())\n",
        "\n",
        "\n",
        "\n",
        "\n"
      ],
      "execution_count": 26,
      "outputs": []
    },
    {
      "cell_type": "markdown",
      "metadata": {
        "id": "asCsJnue_JPN"
      },
      "source": [
        "<Font size=100> Displaying the datasets \n",
        "\n"
      ]
    },
    {
      "cell_type": "code",
      "metadata": {
        "colab": {
          "base_uri": "https://localhost:8080/"
        },
        "id": "z_TRa9ae_NpC",
        "outputId": "1229950d-cfc2-44ec-c1a6-ec18cc234415"
      },
      "source": [
        "print(Queens,Bronx,Brooklyn,Manhattan,Staten_Island)"
      ],
      "execution_count": 27,
      "outputs": [
        {
          "output_type": "stream",
          "name": "stdout",
          "text": [
            "   YEARMONTH        INCIDENTCLASSIFICATION  ... INCIDENTCOUNT  AVERAGERESPONSETIME\n",
            "23   2009/07           Medical False Alarm  ...           102                04:42\n",
            "35   2009/07           NonStructural Fires  ...           309                04:31\n",
            "41   2009/07              Structural Fires  ...           338                04:17\n",
            "11   2009/07                   False Alarm  ...           669                04:11\n",
            "29   2009/07        NonMedical Emergencies  ...          2871                05:11\n",
            "17   2009/07           Medical Emergencies  ...          4005                04:30\n",
            "5    2009/07  All Fire/Emergency Incidents  ...          8294                04:43\n",
            "\n",
            "[7 rows x 5 columns]    YEARMONTH        INCIDENTCLASSIFICATION  ... INCIDENTCOUNT  AVERAGERESPONSETIME\n",
            "20   2009/07           Medical False Alarm  ...            75                04:00\n",
            "32   2009/07           NonStructural Fires  ...           296                04:32\n",
            "38   2009/07              Structural Fires  ...           432                03:59\n",
            "8    2009/07                   False Alarm  ...           755                04:26\n",
            "26   2009/07        NonMedical Emergencies  ...          3150                05:04\n",
            "14   2009/07           Medical Emergencies  ...          3429                04:17\n",
            "2    2009/07  All Fire/Emergency Incidents  ...          8137                04:37\n",
            "\n",
            "[7 rows x 5 columns]    YEARMONTH        INCIDENTCLASSIFICATION  ... INCIDENTCOUNT  AVERAGERESPONSETIME\n",
            "22   2009/07           Medical False Alarm  ...           111                03:50\n",
            "34   2009/07           NonStructural Fires  ...           438                03:59\n",
            "10   2009/07                   False Alarm  ...           565                03:42\n",
            "40   2009/07              Structural Fires  ...           652                03:29\n",
            "28   2009/07        NonMedical Emergencies  ...          4395                04:20\n",
            "16   2009/07           Medical Emergencies  ...          5344                03:51\n",
            "4    2009/07  All Fire/Emergency Incidents  ...         11505                04:01\n",
            "\n",
            "[7 rows x 5 columns]    YEARMONTH        INCIDENTCLASSIFICATION  ... INCIDENTCOUNT  AVERAGERESPONSETIME\n",
            "19   2009/07           Medical False Alarm  ...           110                04:18\n",
            "31   2009/07           NonStructural Fires  ...           349                04:16\n",
            "37   2009/07              Structural Fires  ...           435                04:00\n",
            "7    2009/07                   False Alarm  ...           474                04:07\n",
            "25   2009/07        NonMedical Emergencies  ...          4446                04:51\n",
            "13   2009/07           Medical Emergencies  ...          4895                04:17\n",
            "1    2009/07  All Fire/Emergency Incidents  ...         10709                04:32\n",
            "\n",
            "[7 rows x 5 columns]    YEARMONTH        INCIDENTCLASSIFICATION  ... INCIDENTCOUNT  AVERAGERESPONSETIME\n",
            "21   2009/07           Medical False Alarm  ...            10                04:10\n",
            "39   2009/07              Structural Fires  ...            90                04:34\n",
            "33   2009/07           NonStructural Fires  ...           103                04:38\n",
            "9    2009/07                   False Alarm  ...           192                03:49\n",
            "27   2009/07        NonMedical Emergencies  ...           877                05:24\n",
            "15   2009/07           Medical Emergencies  ...           933                04:19\n",
            "3    2009/07  All Fire/Emergency Incidents  ...          2205                04:45\n",
            "\n",
            "[7 rows x 5 columns]\n"
          ]
        }
      ]
    },
    {
      "cell_type": "markdown",
      "metadata": {
        "id": "tPNZrQiMA_4D"
      },
      "source": [
        "<Font size=100> Sorting Dataset"
      ]
    },
    {
      "cell_type": "code",
      "metadata": {
        "id": "5PREz_IdBDZt"
      },
      "source": [
        "test=pd.DataFrame()\n",
        "style.use('fivethirtyeight')\n",
        "test['Boroughs']='Queens','Manhattan','Brooklyn','Bronx','Staten Island'\n",
        "test['Average Incident Count']=Queens_Incidents0907,Manhattan_Incidents0907,Brooklyn_Incidents0907,Bronx_Incidents0907,Staten_Island_Incidents0907"
      ],
      "execution_count": null,
      "outputs": []
    },
    {
      "cell_type": "markdown",
      "metadata": {
        "id": "aRc6y423BHCI"
      },
      "source": [
        "<Font size=50> Plotting"
      ]
    },
    {
      "cell_type": "code",
      "metadata": {
        "colab": {
          "base_uri": "https://localhost:8080/",
          "height": 346
        },
        "id": "jLiia1c2BQdK",
        "outputId": "6550ed98-2b5d-4e7f-a8e2-a0162cc681ff"
      },
      "source": [
        "\n",
        "plt.bar(test['Boroughs'],test['Average Incident Count'])\n",
        "plt.xlabel('Boroughs')\n",
        "plt.ylabel('Average Incident Count')\n",
        "plt.title('2009/07 Average Incident/Borough',fontname= 'Freestyle Script',size=25)\n",
        "plt.show()"
      ],
      "execution_count": 30,
      "outputs": [
        {
          "output_type": "stream",
          "name": "stderr",
          "text": [
            "findfont: Font family ['Freestyle Script'] not found. Falling back to DejaVu Sans.\n"
          ]
        },
        {
          "output_type": "display_data",
          "data": {
            "image/png": "[encoded data removed]",
            "text/plain": [
              "<Figure size 432x288 with 1 Axes>"
            ]
          },
          "metadata": {}
        }
      ]
    },
    {
      "cell_type": "markdown",
      "metadata": {
        "id": "TEV278TqBePn"
      },
      "source": [
        "\n",
        "\"Resources: https://www.lexipol.com/resources/blog/understanding-and-measuring-fire-department-response-times/#:~:text=Alarm%20Processing%20Time%3A%2064%20seconds,80%20seconds%20for%20fire%20responses \"\n",
        "\"https://data.cityofnewyork.us/Social-Services/FDNY-Monthly-Response-Times/j34j-vqvt \"\n",
        "'https://en.wikipedia.org/wiki/New_York_City_Fire_Department. '\n",
        "\n"
      ]
    }
  ]
}