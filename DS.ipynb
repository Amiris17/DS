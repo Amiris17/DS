{
  "nbformat": 4,
  "nbformat_minor": 0,
  "metadata": {
    "colab": {
      "name": "DS ",
      "provenance": [],
      "collapsed_sections": [],
      "authorship_tag": "ABX9TyM1QIEuIvrvOU8NkhIOhnv8",
      "include_colab_link": true
    },
    "kernelspec": {
      "name": "python3",
      "display_name": "Python 3"
    },
    "language_info": {
      "name": "python"
    }
  },
  "cells": [
    {
      "cell_type": "markdown",
      "metadata": {
        "id": "view-in-github",
        "colab_type": "text"
      },
      "source": [
        "<a href=\"https://colab.research.google.com/github/AimbotMiz/DS/blob/main/DS.ipynb\" target=\"_parent\"><img src=\"https://colab.research.google.com/assets/colab-badge.svg\" alt=\"Open In Colab\"/></a>"
      ]
    },
    {
      "cell_type": "code",
      "metadata": {
        "id": "Ym3mlzOpz-EX",
        "colab": {
          "base_uri": "https://localhost:8080/",
          "height": 284
        },
        "outputId": "0e037ce2-71cd-46f1-e016-09552ea722ef"
      },
      "source": [
        "import pandas as pd\n",
        "import math\n",
        "import numpy as np\n",
        "import datetime\n",
        "import random\n",
        "import matplotlib.style as style\n",
        "from google.colab import drive\n",
        "drive.mount('/content/drive')\n",
        "import matplotlib.pyplot as plt\n",
        "\"Name: Amiris Olivo\"\n",
        "\"Email: Amiris.Olivo56@Myhunter.cuny.edu\"\n",
        "\"Resources: https://www.lexipol.com/resources/blog/understanding-and-measuring-fire-department-response-times/#:~:text=Alarm%20Processing%20Time%3A%2064%20seconds,80%20seconds%20for%20fire%20responses \"\n",
        "\n",
        "path='/content/drive/MyDrive/FDNY_Monthly_Response_Times.csv'\n",
        "df= pd.read_csv(path)\n",
        "#NEW THING SHOW IF INCIDENT COUNT IS DECREASING PER MONTH do 2009 first\n",
        "\n",
        "First_month_year1=df.loc[df['YEARMONTH']=='2009/07']\n",
        "\n",
        "#Second_Year=df.loc[df['YEARMONTH']=='2010/07']\n",
        "sorted=First_month_year1.sort_values(by='INCIDENTCOUNT')\n",
        "\n",
        "new_df=sorted.groupby('INCIDENTBOROUGH')\n",
        "\n",
        "Queens=new_df.get_group('Queens')\n",
        "Queens_Incidents0907=(Queens['INCIDENTCOUNT'].mean())\n",
        "\n",
        "Bronx=new_df.get_group('Bronx')\n",
        "Bronx_Incidents0907=(Bronx['INCIDENTCOUNT'].mean())\n",
        "\n",
        "\n",
        "Brooklyn=new_df.get_group('Brooklyn')\n",
        "Brooklyn_Incidents0907=(Brooklyn['INCIDENTCOUNT'].mean())\n",
        "\n",
        "Manhattan=new_df.get_group('Manhattan')\n",
        "Manhattan_Incidents0907=(Brooklyn['INCIDENTCOUNT'].mean())\n",
        "\n",
        "Staten_Island=new_df.get_group('Staten Island')\n",
        "Staten_Island_Incidents0907=(Staten_Island['INCIDENTCOUNT'].mean())\n",
        "\n",
        "test=pd.DataFrame()\n",
        "\n",
        "test['Boroughs']='Queens','Manhattan','Brooklyn','Bronx','Staten Island'\n",
        "test['Average Incident Count']=Queens_Incidents0907,Manhattan_Incidents0907,Brooklyn_Incidents0907,Bronx_Incidents0907,Staten_Island_Incidents0907\n",
        "plt.bar(test['Boroughs'],test['Average Incident Count'])\n",
        "plt.show()\n",
        "#make a new dataframe with the average of each borough and then do it again for the next year same month and were done.\n",
        "\n",
        "#Borough=sorted['INCIDENTBOROUGH']\n",
        "#print(sorted)\n",
        "#FMY1_count=sorted['INCIDENTCOUNT']\n",
        "\n",
        "#header 07 2009\n",
        "\n",
        "#Cleaned_1=First_Year.sort_values(by='AVERAGERESPONSETIME')\n",
        "#First_year_Response=Cleaned_1['AVERAGERESPONSETIME']\n",
        "#plt.scatter(Cleaned_1['INCIDENTBOROUGH'],First_year_Response)\n",
        "#plt.show()\n",
        "\n"
      ],
      "execution_count": 4,
      "outputs": [
        {
          "output_type": "stream",
          "name": "stdout",
          "text": [
            "Drive already mounted at /content/drive; to attempt to forcibly remount, call drive.mount(\"/content/drive\", force_remount=True).\n"
          ]
        },
        {
          "output_type": "display_data",
          "data": {
            "image/png": "[encoded data removed]",
            "text/plain": [
              "<Figure size 432x288 with 1 Axes>"
            ]
          },
          "metadata": {
            "needs_background": "light"
          }
        }
      ]
    }
  ]
}